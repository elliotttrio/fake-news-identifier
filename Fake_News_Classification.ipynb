{
  "nbformat": 4,
  "nbformat_minor": 0,
  "metadata": {
    "colab": {
      "name": "Fake News Classification",
      "provenance": [],
      "collapsed_sections": [],
      "toc_visible": true
    },
    "kernelspec": {
      "display_name": "Python 3",
      "name": "python3"
    }
  },
  "cells": [
    {
      "cell_type": "code",
      "metadata": {
        "id": "uvTYvVlOZX-I"
      },
      "source": [
        "import os\r\n",
        "import pandas as pd\r\n",
        "import numpy as np\r\n",
        "import seaborn as sns\r\n",
        "import matplotlib.pyplot as plt"
      ],
      "execution_count": null,
      "outputs": []
    },
    {
      "cell_type": "code",
      "metadata": {
        "id": "K6koYrqeZ1R3"
      },
      "source": [
        "os.chdir(\"/content/drive/MyDrive/DSPP Fake News\")\r\n",
        "buzzfeed = pd.read_csv('buzzfeed.csv') #read csvs\r\n",
        "politifact = pd.read_csv('politifact.csv')"
      ],
      "execution_count": null,
      "outputs": []
    },
    {
      "cell_type": "code",
      "metadata": {
        "id": "4eGUNBaFcwqD"
      },
      "source": [
        "buzzfeed.drop(buzzfeed.columns[0], axis=1, inplace=True) #drop index cols\r\n",
        "politifact.drop(politifact.columns[0], axis=1, inplace=True)"
      ],
      "execution_count": null,
      "outputs": []
    },
    {
      "cell_type": "code",
      "metadata": {
        "id": "25HtxOCrdxwd"
      },
      "source": [
        "buzzfeed['origin'] = 'buzzfeed'\r\n",
        "politifact['origin'] = 'politifact'"
      ],
      "execution_count": null,
      "outputs": []
    },
    {
      "cell_type": "code",
      "metadata": {
        "id": "W81vGTrTecu2"
      },
      "source": [
        "fakenews_df = pd.concat([buzzfeed, politifact])"
      ],
      "execution_count": null,
      "outputs": []
    },
    {
      "cell_type": "code",
      "metadata": {
        "id": "9A5HiItMQKXp"
      },
      "source": [
        "#fakenews_df = politifact"
      ],
      "execution_count": null,
      "outputs": []
    },
    {
      "cell_type": "code",
      "metadata": {
        "colab": {
          "base_uri": "https://localhost:8080/",
          "height": 268
        },
        "id": "av1CaghVflEh",
        "outputId": "fca3104c-4a74-45d9-853e-996fe18e7b41"
      },
      "source": [
        "fakenews_df.head()"
      ],
      "execution_count": null,
      "outputs": [
        {
          "output_type": "execute_result",
          "data": {
            "text/html": [
              "<div>\n",
              "<style scoped>\n",
              "    .dataframe tbody tr th:only-of-type {\n",
              "        vertical-align: middle;\n",
              "    }\n",
              "\n",
              "    .dataframe tbody tr th {\n",
              "        vertical-align: top;\n",
              "    }\n",
              "\n",
              "    .dataframe thead th {\n",
              "        text-align: right;\n",
              "    }\n",
              "</style>\n",
              "<table border=\"1\" class=\"dataframe\">\n",
              "  <thead>\n",
              "    <tr style=\"text-align: right;\">\n",
              "      <th></th>\n",
              "      <th>source</th>\n",
              "      <th>date</th>\n",
              "      <th>title</th>\n",
              "      <th>text</th>\n",
              "      <th>fake</th>\n",
              "      <th>date_time</th>\n",
              "      <th>origin</th>\n",
              "    </tr>\n",
              "  </thead>\n",
              "  <tbody>\n",
              "    <tr>\n",
              "      <th>0</th>\n",
              "      <td>http://www.addictinginfo.org</td>\n",
              "      <td>2016-09-19</td>\n",
              "      <td>Proof The Mainstream Media Is Manipulating The...</td>\n",
              "      <td>I woke up this morning to find a variation of ...</td>\n",
              "      <td>1</td>\n",
              "      <td>2016-09-18 20:00:00</td>\n",
              "      <td>buzzfeed</td>\n",
              "    </tr>\n",
              "    <tr>\n",
              "      <th>1</th>\n",
              "      <td>http://eaglerising.com</td>\n",
              "      <td>2016-09-21</td>\n",
              "      <td>Charity: Clinton Foundation Distributed \"Water...</td>\n",
              "      <td>Former President Bill Clinton and his Clinton ...</td>\n",
              "      <td>1</td>\n",
              "      <td>2016-09-20 20:08:41</td>\n",
              "      <td>buzzfeed</td>\n",
              "    </tr>\n",
              "    <tr>\n",
              "      <th>2</th>\n",
              "      <td>http://eaglerising.com</td>\n",
              "      <td>2016-09-21</td>\n",
              "      <td>A Hillary Clinton Administration May be Entire...</td>\n",
              "      <td>After collapsing just before trying to step in...</td>\n",
              "      <td>1</td>\n",
              "      <td>2016-09-20 20:10:38</td>\n",
              "      <td>buzzfeed</td>\n",
              "    </tr>\n",
              "    <tr>\n",
              "      <th>3</th>\n",
              "      <td>http://www.addictinginfo.org</td>\n",
              "      <td>2016-09-19</td>\n",
              "      <td>Trump’s Latest Campaign Promise May Be His Mos...</td>\n",
              "      <td>Donald Trump is, well, deplorable. He’s sugges...</td>\n",
              "      <td>1</td>\n",
              "      <td>2016-09-18 20:00:00</td>\n",
              "      <td>buzzfeed</td>\n",
              "    </tr>\n",
              "    <tr>\n",
              "      <th>4</th>\n",
              "      <td>http://www.proudcons.com</td>\n",
              "      <td>NaN</td>\n",
              "      <td>Website is Down For Maintenance</td>\n",
              "      <td>Website is Down For Maintenance</td>\n",
              "      <td>1</td>\n",
              "      <td>NaN</td>\n",
              "      <td>buzzfeed</td>\n",
              "    </tr>\n",
              "  </tbody>\n",
              "</table>\n",
              "</div>"
            ],
            "text/plain": [
              "                         source        date  ...            date_time    origin\n",
              "0  http://www.addictinginfo.org  2016-09-19  ...  2016-09-18 20:00:00  buzzfeed\n",
              "1        http://eaglerising.com  2016-09-21  ...  2016-09-20 20:08:41  buzzfeed\n",
              "2        http://eaglerising.com  2016-09-21  ...  2016-09-20 20:10:38  buzzfeed\n",
              "3  http://www.addictinginfo.org  2016-09-19  ...  2016-09-18 20:00:00  buzzfeed\n",
              "4      http://www.proudcons.com         NaN  ...                  NaN  buzzfeed\n",
              "\n",
              "[5 rows x 7 columns]"
            ]
          },
          "metadata": {
            "tags": []
          },
          "execution_count": 10
        }
      ]
    },
    {
      "cell_type": "code",
      "metadata": {
        "id": "9UQCnzCCimJ5"
      },
      "source": [
        "textonly = pd.concat([fakenews_df['title'], fakenews_df['text']])"
      ],
      "execution_count": null,
      "outputs": []
    },
    {
      "cell_type": "markdown",
      "metadata": {
        "id": "YIAPkNjaafGY"
      },
      "source": [
        "Exploratory analysis"
      ]
    },
    {
      "cell_type": "code",
      "metadata": {
        "id": "uHWLORViAt2r"
      },
      "source": [
        "import datetime as dt"
      ],
      "execution_count": null,
      "outputs": []
    },
    {
      "cell_type": "code",
      "metadata": {
        "id": "w6Jaf7-hj6rG"
      },
      "source": [
        "dates = fakenews_df[['date', 'fake', 'date_time']].dropna()"
      ],
      "execution_count": null,
      "outputs": []
    },
    {
      "cell_type": "code",
      "metadata": {
        "id": "BcKdTntBg-nD"
      },
      "source": [
        "dates['date'] = pd.to_datetime(dates['date'])\r\n",
        "dates['date_time'] = pd.to_datetime(dates['date_time'])\r\n",
        "dates = dates[dates.fake == 1]"
      ],
      "execution_count": null,
      "outputs": []
    },
    {
      "cell_type": "code",
      "metadata": {
        "id": "4XM1xZ6IZBfg"
      },
      "source": [
        "dates['date_time'] = dates['date_time'].dt.strftime('%H')"
      ],
      "execution_count": null,
      "outputs": []
    },
    {
      "cell_type": "code",
      "metadata": {
        "colab": {
          "base_uri": "https://localhost:8080/",
          "height": 411
        },
        "id": "NcB2VyUvbCav",
        "outputId": "5704ba70-eec6-4215-d28c-bf0c6a0e3cd0"
      },
      "source": [
        "dates[['date', 'fake']].groupby('date').count().reset_index()"
      ],
      "execution_count": null,
      "outputs": [
        {
          "output_type": "execute_result",
          "data": {
            "text/html": [
              "<div>\n",
              "<style scoped>\n",
              "    .dataframe tbody tr th:only-of-type {\n",
              "        vertical-align: middle;\n",
              "    }\n",
              "\n",
              "    .dataframe tbody tr th {\n",
              "        vertical-align: top;\n",
              "    }\n",
              "\n",
              "    .dataframe thead th {\n",
              "        text-align: right;\n",
              "    }\n",
              "</style>\n",
              "<table border=\"1\" class=\"dataframe\">\n",
              "  <thead>\n",
              "    <tr style=\"text-align: right;\">\n",
              "      <th></th>\n",
              "      <th>date</th>\n",
              "      <th>fake</th>\n",
              "    </tr>\n",
              "  </thead>\n",
              "  <tbody>\n",
              "    <tr>\n",
              "      <th>0</th>\n",
              "      <td>2013-03-05</td>\n",
              "      <td>1</td>\n",
              "    </tr>\n",
              "    <tr>\n",
              "      <th>1</th>\n",
              "      <td>2014-02-28</td>\n",
              "      <td>1</td>\n",
              "    </tr>\n",
              "    <tr>\n",
              "      <th>2</th>\n",
              "      <td>2015-03-09</td>\n",
              "      <td>1</td>\n",
              "    </tr>\n",
              "    <tr>\n",
              "      <th>3</th>\n",
              "      <td>2015-04-22</td>\n",
              "      <td>1</td>\n",
              "    </tr>\n",
              "    <tr>\n",
              "      <th>4</th>\n",
              "      <td>2015-05-26</td>\n",
              "      <td>1</td>\n",
              "    </tr>\n",
              "    <tr>\n",
              "      <th>...</th>\n",
              "      <td>...</td>\n",
              "      <td>...</td>\n",
              "    </tr>\n",
              "    <tr>\n",
              "      <th>88</th>\n",
              "      <td>2017-07-14</td>\n",
              "      <td>1</td>\n",
              "    </tr>\n",
              "    <tr>\n",
              "      <th>89</th>\n",
              "      <td>2017-07-20</td>\n",
              "      <td>1</td>\n",
              "    </tr>\n",
              "    <tr>\n",
              "      <th>90</th>\n",
              "      <td>2017-07-28</td>\n",
              "      <td>1</td>\n",
              "    </tr>\n",
              "    <tr>\n",
              "      <th>91</th>\n",
              "      <td>2017-07-30</td>\n",
              "      <td>1</td>\n",
              "    </tr>\n",
              "    <tr>\n",
              "      <th>92</th>\n",
              "      <td>2017-08-24</td>\n",
              "      <td>1</td>\n",
              "    </tr>\n",
              "  </tbody>\n",
              "</table>\n",
              "<p>93 rows × 2 columns</p>\n",
              "</div>"
            ],
            "text/plain": [
              "         date  fake\n",
              "0  2013-03-05     1\n",
              "1  2014-02-28     1\n",
              "2  2015-03-09     1\n",
              "3  2015-04-22     1\n",
              "4  2015-05-26     1\n",
              "..        ...   ...\n",
              "88 2017-07-14     1\n",
              "89 2017-07-20     1\n",
              "90 2017-07-28     1\n",
              "91 2017-07-30     1\n",
              "92 2017-08-24     1\n",
              "\n",
              "[93 rows x 2 columns]"
            ]
          },
          "metadata": {
            "tags": []
          },
          "execution_count": 16
        }
      ]
    },
    {
      "cell_type": "code",
      "metadata": {
        "colab": {
          "base_uri": "https://localhost:8080/",
          "height": 501
        },
        "id": "mGdBQE2CmzxN",
        "outputId": "e840966f-5090-4ec6-ca7f-c4e608e0429c"
      },
      "source": [
        "plt.figure(figsize=(15,8))\r\n",
        "\r\n",
        "df_plot = dates[['date', 'fake']].groupby('date').count().reset_index()\r\n",
        "plt.plot(df_plot['date'], df_plot['fake'])"
      ],
      "execution_count": null,
      "outputs": [
        {
          "output_type": "execute_result",
          "data": {
            "text/plain": [
              "[<matplotlib.lines.Line2D at 0x7fab67618a58>]"
            ]
          },
          "metadata": {
            "tags": []
          },
          "execution_count": 17
        },
        {
          "output_type": "display_data",
          "data": {
            "image/png": "[encoded data removed]",
            "text/plain": [
              "<Figure size 1080x576 with 1 Axes>"
            ]
          },
          "metadata": {
            "tags": [],
            "needs_background": "light"
          }
        }
      ]
    },
    {
      "cell_type": "code",
      "metadata": {
        "colab": {
          "base_uri": "https://localhost:8080/"
        },
        "id": "DHrGWj5XGWp4",
        "outputId": "9fd58076-b7e0-452c-a3dc-0612fe141073"
      },
      "source": [
        "dates[['date', 'fake']].value_counts()"
      ],
      "execution_count": null,
      "outputs": [
        {
          "output_type": "execute_result",
          "data": {
            "text/plain": [
              "date        fake\n",
              "2016-09-19  1       14\n",
              "2016-09-26  1       11\n",
              "2016-09-21  1       11\n",
              "2016-09-22  1        9\n",
              "2016-09-20  1        8\n",
              "                    ..\n",
              "2017-05-12  1        1\n",
              "2017-05-13  1        1\n",
              "2017-05-15  1        1\n",
              "2017-05-21  1        1\n",
              "2013-03-05  1        1\n",
              "Length: 93, dtype: int64"
            ]
          },
          "metadata": {
            "tags": []
          },
          "execution_count": 18
        }
      ]
    },
    {
      "cell_type": "code",
      "metadata": {
        "colab": {
          "base_uri": "https://localhost:8080/",
          "height": 501
        },
        "id": "SpC7I6MIaiaf",
        "outputId": "7a8399f3-a3f2-4fb7-86d7-6644a16c093e"
      },
      "source": [
        "plt.figure(figsize=(15,8))\r\n",
        "\r\n",
        "df_plot = dates[['date_time', 'fake']].groupby('date_time').count().reset_index()\r\n",
        "plt.plot(df_plot['date_time'], df_plot['fake'])"
      ],
      "execution_count": null,
      "outputs": [
        {
          "output_type": "execute_result",
          "data": {
            "text/plain": [
              "[<matplotlib.lines.Line2D at 0x7fab670da358>]"
            ]
          },
          "metadata": {
            "tags": []
          },
          "execution_count": 19
        },
        {
          "output_type": "display_data",
          "data": {
            "image/png": "[encoded data removed]",
            "text/plain": [
              "<Figure size 1080x576 with 1 Axes>"
            ]
          },
          "metadata": {
            "tags": [],
            "needs_background": "light"
          }
        }
      ]
    },
    {
      "cell_type": "code",
      "metadata": {
        "colab": {
          "base_uri": "https://localhost:8080/",
          "height": 283
        },
        "id": "FuHnbjX-mBL_",
        "outputId": "33cd118d-8617-4c1b-8946-22c670fe61ef"
      },
      "source": [
        "plt.scatter(x = dates['date'], y = dates['fake'], s = 10, color='purple')"
      ],
      "execution_count": null,
      "outputs": [
        {
          "output_type": "execute_result",
          "data": {
            "text/plain": [
              "<matplotlib.collections.PathCollection at 0x7fab67060cf8>"
            ]
          },
          "metadata": {
            "tags": []
          },
          "execution_count": 20
        },
        {
          "output_type": "display_data",
          "data": {
            "image/png": "[encoded data removed]",
            "text/plain": [
              "<Figure size 432x288 with 1 Axes>"
            ]
          },
          "metadata": {
            "tags": [],
            "needs_background": "light"
          }
        }
      ]
    },
    {
      "cell_type": "code",
      "metadata": {
        "colab": {
          "base_uri": "https://localhost:8080/",
          "height": 283
        },
        "id": "AtchEgO5ho29",
        "outputId": "cda01879-cb59-484a-d2aa-d2418ae94d40"
      },
      "source": [
        "plt.scatter(x = dates[dates.date >= '2017-01-01']['date'], y = dates[dates.date >= '2017-01-01']['fake'], s = 10, color='purple')"
      ],
      "execution_count": null,
      "outputs": [
        {
          "output_type": "execute_result",
          "data": {
            "text/plain": [
              "<matplotlib.collections.PathCollection at 0x7fab66fd49e8>"
            ]
          },
          "metadata": {
            "tags": []
          },
          "execution_count": 21
        },
        {
          "output_type": "display_data",
          "data": {
            "image/png": "[encoded data removed]",
            "text/plain": [
              "<Figure size 432x288 with 1 Axes>"
            ]
          },
          "metadata": {
            "tags": [],
            "needs_background": "light"
          }
        }
      ]
    },
    {
      "cell_type": "code",
      "metadata": {
        "colab": {
          "base_uri": "https://localhost:8080/",
          "height": 283
        },
        "id": "hR8YtHRSkzkr",
        "outputId": "bf8f8671-1107-42e0-f1a4-b045f81e907a"
      },
      "source": [
        "plt.scatter(x = dates['date'], y = dates['fake'], s = 10, color='purple')"
      ],
      "execution_count": null,
      "outputs": [
        {
          "output_type": "execute_result",
          "data": {
            "text/plain": [
              "<matplotlib.collections.PathCollection at 0x7fab66fb6a58>"
            ]
          },
          "metadata": {
            "tags": []
          },
          "execution_count": 22
        },
        {
          "output_type": "display_data",
          "data": {
            "image/png": "[encoded data removed]",
            "text/plain": [
              "<Figure size 432x288 with 1 Axes>"
            ]
          },
          "metadata": {
            "tags": [],
            "needs_background": "light"
          }
        }
      ]
    },
    {
      "cell_type": "code",
      "metadata": {
        "colab": {
          "base_uri": "https://localhost:8080/"
        },
        "id": "JvpHLmNAe2qy",
        "outputId": "2511b63b-3b53-4bff-a6f5-0d9a8fefadf4"
      },
      "source": [
        "# what is the distribution of Y?\r\n",
        "fakenews_df['fake'].value_counts()"
      ],
      "execution_count": null,
      "outputs": [
        {
          "output_type": "execute_result",
          "data": {
            "text/plain": [
              "1    211\n",
              "0    211\n",
              "Name: fake, dtype: int64"
            ]
          },
          "metadata": {
            "tags": []
          },
          "execution_count": 23
        }
      ]
    },
    {
      "cell_type": "code",
      "metadata": {
        "colab": {
          "base_uri": "https://localhost:8080/"
        },
        "id": "A78Rn5v4fqq8",
        "outputId": "29669e48-5c8b-4388-c20a-66084a3c15ee"
      },
      "source": [
        "# what source is most frequent\r\n",
        "fakenews_df['source'].value_counts()"
      ],
      "execution_count": null,
      "outputs": [
        {
          "output_type": "execute_result",
          "data": {
            "text/plain": [
              "http://politi.co              75\n",
              "http://cnn.it                 45\n",
              "http://rightwingnews.com      28\n",
              "http://eaglerising.com        23\n",
              "http://freedomdaily.com       20\n",
              "                              ..\n",
              "http://fb.me                   1\n",
              "http://redherald.com           1\n",
              "https://halfwaypost.com        1\n",
              "http://snoopack.com            1\n",
              "http://themiamigazette.com     1\n",
              "Name: source, Length: 104, dtype: int64"
            ]
          },
          "metadata": {
            "tags": []
          },
          "execution_count": 24
        }
      ]
    },
    {
      "cell_type": "code",
      "metadata": {
        "colab": {
          "base_uri": "https://localhost:8080/"
        },
        "id": "Hq2vMoL1llfB",
        "outputId": "981aa3cc-a6bd-4c06-dcf6-513e1dbd59e4"
      },
      "source": [
        "#when was the most fake news published?\r\n",
        "dates[['date', 'fake']].value_counts()"
      ],
      "execution_count": null,
      "outputs": [
        {
          "output_type": "execute_result",
          "data": {
            "text/plain": [
              "date        fake\n",
              "2016-09-19  1       14\n",
              "2016-09-26  1       11\n",
              "2016-09-21  1       11\n",
              "2016-09-22  1        9\n",
              "2016-09-20  1        8\n",
              "                    ..\n",
              "2017-05-12  1        1\n",
              "2017-05-13  1        1\n",
              "2017-05-15  1        1\n",
              "2017-05-21  1        1\n",
              "2013-03-05  1        1\n",
              "Length: 93, dtype: int64"
            ]
          },
          "metadata": {
            "tags": []
          },
          "execution_count": 25
        }
      ]
    },
    {
      "cell_type": "code",
      "metadata": {
        "colab": {
          "base_uri": "https://localhost:8080/"
        },
        "id": "64L0nm3HpUCe",
        "outputId": "fbd20503-8720-4232-fea2-0d35a88c8a0c"
      },
      "source": [
        "import nltk\r\n",
        "from nltk.tokenize import word_tokenize\r\n",
        "nltk.download('punkt')"
      ],
      "execution_count": null,
      "outputs": [
        {
          "output_type": "stream",
          "text": [
            "[nltk_data] Downloading package punkt to /root/nltk_data...\n",
            "[nltk_data]   Unzipping tokenizers/punkt.zip.\n"
          ],
          "name": "stdout"
        },
        {
          "output_type": "execute_result",
          "data": {
            "text/plain": [
              "True"
            ]
          },
          "metadata": {
            "tags": []
          },
          "execution_count": 26
        }
      ]
    },
    {
      "cell_type": "markdown",
      "metadata": {
        "id": "3gSdxZiza8Ok"
      },
      "source": [
        "Classification models"
      ]
    },
    {
      "cell_type": "code",
      "metadata": {
        "id": "GnZ5RYT0bAxm"
      },
      "source": [
        "import time\r\n",
        "import scipy.sparse as sp\r\n",
        "from sklearn.decomposition import PCA\r\n",
        "\r\n",
        "from sklearn.feature_extraction.text import CountVectorizer, TfidfVectorizer\r\n",
        "from sklearn.model_selection import train_test_split, cross_val_score, cross_val_predict, GridSearchCV\r\n",
        "from sklearn.pipeline import Pipeline, FeatureUnion\r\n",
        "from sklearn.preprocessing import StandardScaler, FunctionTransformer\r\n",
        "from sklearn.metrics import accuracy_score\r\n",
        "from sklearn.model_selection import StratifiedKFold\r\n",
        "from sklearn.ensemble import RandomForestClassifier\r\n",
        "from sklearn.naive_bayes import MultinomialNB\r\n",
        "from sklearn.feature_extraction.text import CountVectorizer, TfidfVectorizer, TfidfTransformer"
      ],
      "execution_count": null,
      "outputs": []
    },
    {
      "cell_type": "code",
      "metadata": {
        "colab": {
          "base_uri": "https://localhost:8080/"
        },
        "id": "5orheoVMlkAC",
        "outputId": "ae347284-67b4-47a4-df62-c47ef04ae052"
      },
      "source": [
        "from nltk.stem import WordNetLemmatizer\r\n",
        "wordnet_lemmatizer = WordNetLemmatizer()\r\n",
        "nltk.download('wordnet')"
      ],
      "execution_count": null,
      "outputs": [
        {
          "output_type": "stream",
          "text": [
            "[nltk_data] Downloading package wordnet to /root/nltk_data...\n",
            "[nltk_data]   Unzipping corpora/wordnet.zip.\n"
          ],
          "name": "stdout"
        },
        {
          "output_type": "execute_result",
          "data": {
            "text/plain": [
              "True"
            ]
          },
          "metadata": {
            "tags": []
          },
          "execution_count": 47
        }
      ]
    },
    {
      "cell_type": "code",
      "metadata": {
        "id": "1yWpqFJDl9zV"
      },
      "source": [
        "def lemmatize_text(s):\r\n",
        "    s = [wordnet_lemmatizer.lemmatize(w) for w in s]\r\n",
        "    return s"
      ],
      "execution_count": null,
      "outputs": []
    },
    {
      "cell_type": "code",
      "metadata": {
        "id": "VRzjfiuXH_Om"
      },
      "source": [
        "fakenews_df_2 = fakenews_df[['fake', 'title', 'text']].dropna()"
      ],
      "execution_count": null,
      "outputs": []
    },
    {
      "cell_type": "code",
      "metadata": {
        "id": "UsUF6R3VOdJS"
      },
      "source": [
        "fakenews_df_2['both'] = fakenews_df_2['title'].str.cat(fakenews_df_2['text'],sep=\" \")"
      ],
      "execution_count": null,
      "outputs": []
    },
    {
      "cell_type": "code",
      "metadata": {
        "id": "N2OG2G62l-56"
      },
      "source": [
        "X = lemmatize_text(fakenews_df_2['both'])\r\n",
        "Y = fakenews_df_2['fake']"
      ],
      "execution_count": null,
      "outputs": []
    },
    {
      "cell_type": "code",
      "metadata": {
        "id": "NmPen9apJ4Ak"
      },
      "source": [
        "X_train, X_test, y_train, y_test = train_test_split(X, Y, test_size = .33)"
      ],
      "execution_count": null,
      "outputs": []
    },
    {
      "cell_type": "markdown",
      "metadata": {
        "id": "JlR5ADAEMrZh"
      },
      "source": [
        ""
      ]
    },
    {
      "cell_type": "code",
      "metadata": {
        "colab": {
          "base_uri": "https://localhost:8080/"
        },
        "id": "fByd7-1K8y84",
        "outputId": "3bff0318-56c0-4a6f-bfd1-2bd333d85e31"
      },
      "source": [
        "pipe = Pipeline([('tfidf', CountVectorizer(ngram_range = (1,2), binary = True)),\r\n",
        "                 ('trans', TfidfTransformer(use_idf=False, norm='l2', smooth_idf=False)),\r\n",
        "                  ('bayes', MultinomialNB())\r\n",
        "                  ])\r\n",
        "\r\n",
        "bayes_params = {\r\n",
        "    'bayes__alpha': [1, .5, 1e-1, 1e-2, 1e-3],\r\n",
        "    'bayes__fit_prior': [True, False],\r\n",
        "}\r\n",
        "\r\n",
        "bayes_cv = GridSearchCV(estimator= pipe, param_grid = bayes_params, cv = 3, scoring=\"accuracy\")\r\n",
        "\r\n",
        "bayes_cv.fit(X = X_train, y = y_train)"
      ],
      "execution_count": null,
      "outputs": [
        {
          "output_type": "execute_result",
          "data": {
            "text/plain": [
              "GridSearchCV(cv=3, error_score=nan,\n",
              "             estimator=Pipeline(memory=None,\n",
              "                                steps=[('tfidf',\n",
              "                                        CountVectorizer(analyzer='word',\n",
              "                                                        binary=True,\n",
              "                                                        decode_error='strict',\n",
              "                                                        dtype=<class 'numpy.int64'>,\n",
              "                                                        encoding='utf-8',\n",
              "                                                        input='content',\n",
              "                                                        lowercase=True,\n",
              "                                                        max_df=1.0,\n",
              "                                                        max_features=None,\n",
              "                                                        min_df=1,\n",
              "                                                        ngram_range=(1, 2),\n",
              "                                                        preprocessor=None,\n",
              "                                                        stop_words=None,\n",
              "                                                        strip_accents=None,\n",
              "                                                        token_pattern='(?u)...\n",
              "                                        TfidfTransformer(norm='l2',\n",
              "                                                         smooth_idf=False,\n",
              "                                                         sublinear_tf=False,\n",
              "                                                         use_idf=False)),\n",
              "                                       ('bayes',\n",
              "                                        MultinomialNB(alpha=1.0,\n",
              "                                                      class_prior=None,\n",
              "                                                      fit_prior=True))],\n",
              "                                verbose=False),\n",
              "             iid='deprecated', n_jobs=None,\n",
              "             param_grid={'bayes__alpha': [1, 0.5, 0.1, 0.01, 0.001],\n",
              "                         'bayes__fit_prior': [True, False]},\n",
              "             pre_dispatch='2*n_jobs', refit=True, return_train_score=False,\n",
              "             scoring='accuracy', verbose=0)"
            ]
          },
          "metadata": {
            "tags": []
          },
          "execution_count": 68
        }
      ]
    },
    {
      "cell_type": "code",
      "metadata": {
        "colab": {
          "base_uri": "https://localhost:8080/"
        },
        "id": "o1Q1TJFRHL0-",
        "outputId": "a5cae15d-3640-4fc0-9f63-a11a8088e3b3"
      },
      "source": [
        "print(bayes_cv.best_params_)"
      ],
      "execution_count": null,
      "outputs": [
        {
          "output_type": "stream",
          "text": [
            "{'bayes__alpha': 0.01, 'bayes__fit_prior': True}\n"
          ],
          "name": "stdout"
        }
      ]
    },
    {
      "cell_type": "code",
      "metadata": {
        "colab": {
          "base_uri": "https://localhost:8080/"
        },
        "id": "cLSiWb6p-KTI",
        "outputId": "c4f2d79d-af27-437a-8bd0-4e68ba1ca525"
      },
      "source": [
        "y_pred = bayes_cv.predict(X_test)\r\n",
        "\r\n",
        "accuracy_score(y_test, y_pred)"
      ],
      "execution_count": null,
      "outputs": [
        {
          "output_type": "execute_result",
          "data": {
            "text/plain": [
              "0.8145161290322581"
            ]
          },
          "metadata": {
            "tags": []
          },
          "execution_count": 62
        }
      ]
    },
    {
      "cell_type": "code",
      "metadata": {
        "id": "QS8jkoAbV7lC"
      },
      "source": [
        "from sklearn.metrics import classification_report\r\n",
        "print(classification_report(y_test, bayes_cv.predict(X_test), digits=4))\r\n",
        "\r\n",
        "import matplotlib.pyplot as plt\r\n",
        "from sklearn.metrics import confusion_matrix\r\n",
        "CM = confusion_matrix(y_test, bayes_cv.predict(X_test))\r\n",
        "from mlxtend.plotting import plot_confusion_matrix\r\n",
        "fig, ax = plot_confusion_matrix(conf_mat=CM ,  figsize=(5, 5))\r\n",
        "plt.show()"
      ],
      "execution_count": null,
      "outputs": []
    },
    {
      "cell_type": "code",
      "metadata": {
        "id": "7fQug18iP6Z6"
      },
      "source": [
        "from sklearn.naive_bayes import GaussianNB"
      ],
      "execution_count": null,
      "outputs": []
    },
    {
      "cell_type": "code",
      "metadata": {
        "id": "eismlTYWQWww"
      },
      "source": [
        "pipe2 = Pipeline([('gauss', GaussianNB())])"
      ],
      "execution_count": null,
      "outputs": []
    },
    {
      "cell_type": "code",
      "metadata": {
        "id": "dg4zRpcTSxMO"
      },
      "source": [
        "gauss_params = {\r\n",
        "    'gauss__var_smoothing': [1, 1e-1, 1e-2, 1e-3, 1e-4, 1e-5, 1e-6, 1e-7, 1e-8, 1e-9],\r\n",
        "}"
      ],
      "execution_count": null,
      "outputs": []
    },
    {
      "cell_type": "code",
      "metadata": {
        "id": "qq49NaP_TQaq"
      },
      "source": [
        "gauss_cv = GridSearchCV(estimator= pipe2, param_grid = gauss_params, cv = 3)"
      ],
      "execution_count": null,
      "outputs": []
    },
    {
      "cell_type": "code",
      "metadata": {
        "id": "c2TIA0BPR5DP"
      },
      "source": [
        "gauss_cv.fit(X = X_train, y = y_train)"
      ],
      "execution_count": null,
      "outputs": []
    },
    {
      "cell_type": "code",
      "metadata": {
        "id": "nI15iYswTnpV"
      },
      "source": [
        "print(gauss_cv.best_params_)"
      ],
      "execution_count": null,
      "outputs": []
    },
    {
      "cell_type": "code",
      "metadata": {
        "id": "H-tRsCOsRGPU"
      },
      "source": [
        "y_pred = gauss_cv.predict(X_test)"
      ],
      "execution_count": null,
      "outputs": []
    },
    {
      "cell_type": "code",
      "metadata": {
        "id": "C028IsKvRPFp"
      },
      "source": [
        "accuracy_score(y_test, y_pred)"
      ],
      "execution_count": null,
      "outputs": []
    },
    {
      "cell_type": "code",
      "metadata": {
        "id": "NK9Sne0Ce_OG"
      },
      "source": [
        "print(classification_report(y_test, y_pred, digits=4))\r\n",
        "CM = confusion_matrix(y_test, y_pred)\r\n",
        "fig, ax = plot_confusion_matrix(conf_mat=CM ,  figsize=(5, 5))\r\n",
        "plt.show()"
      ],
      "execution_count": null,
      "outputs": []
    },
    {
      "cell_type": "code",
      "metadata": {
        "id": "-NgMqNXfURln"
      },
      "source": [
        "from sklearn.naive_bayes import BernoulliNB"
      ],
      "execution_count": null,
      "outputs": []
    },
    {
      "cell_type": "code",
      "metadata": {
        "id": "84IOfSVjVGI9"
      },
      "source": [
        "pipe = Pipeline([('bayes', BernoulliNB())])\r\n",
        "\r\n",
        "bayes_params = {\r\n",
        "    'bayes__alpha': [1.1, 1, 1e-1, 1e-2],\r\n",
        "    'bayes__binarize': [0, 1.1, 1, 1e-1, 1e-2, 1e-3],\r\n",
        "    'bayes__fit_prior': [True, False],\r\n",
        "}\r\n",
        "\r\n",
        "bayes_cv = GridSearchCV(estimator= pipe, param_grid = bayes_params, cv = 3)\r\n",
        "\r\n",
        "bayes_cv.fit(X = X_train, y = y_train)"
      ],
      "execution_count": null,
      "outputs": []
    },
    {
      "cell_type": "code",
      "metadata": {
        "id": "5xnTJGfdVNi9"
      },
      "source": [
        "print(bayes_cv.best_params_)"
      ],
      "execution_count": null,
      "outputs": []
    },
    {
      "cell_type": "code",
      "metadata": {
        "id": "me78Z8ReVWta"
      },
      "source": [
        "y_pred = bayes_cv.predict(X_test)\r\n",
        "\r\n",
        "accuracy_score(y_test, y_pred)"
      ],
      "execution_count": null,
      "outputs": []
    },
    {
      "cell_type": "code",
      "metadata": {
        "id": "eKsPBdzpfRKz"
      },
      "source": [
        "print(classification_report(y_test, y_pred, digits=4))\r\n",
        "CM = confusion_matrix(y_test, y_pred)\r\n",
        "fig, ax = plot_confusion_matrix(conf_mat=CM ,  figsize=(5, 5))\r\n",
        "plt.show()"
      ],
      "execution_count": null,
      "outputs": []
    },
    {
      "cell_type": "code",
      "metadata": {
        "id": "PSmwOBVviGvQ"
      },
      "source": [
        "from xgboost import XGBClassifier"
      ],
      "execution_count": null,
      "outputs": []
    },
    {
      "cell_type": "code",
      "metadata": {
        "id": "5ybE0yIJkt76"
      },
      "source": [
        "pipeline = Pipeline([('xgb', XGBClassifier())])\r\n",
        "\r\n",
        "param_grid = {\r\n",
        "    'xgb__max_depth': [2, 3, 5],\r\n",
        "    'xgb__n_estimators': [100, 500],\r\n",
        "}\r\n",
        "\r\n",
        "xgb_grid = GridSearchCV(pipeline, param_grid, cv = 3, verbose = 2)\r\n",
        "\r\n",
        "xgb_grid.fit(X = X_train, y = y_train)"
      ],
      "execution_count": null,
      "outputs": []
    },
    {
      "cell_type": "code",
      "metadata": {
        "id": "kwbJNoM3kfb7"
      },
      "source": [
        "#from joblib import dump\r\n",
        "#dump(bayes_cv, 'bayes_cv.joblib')"
      ],
      "execution_count": null,
      "outputs": []
    },
    {
      "cell_type": "code",
      "metadata": {
        "id": "BAffxnqfkppS"
      },
      "source": [
        "#from joblib import load\r\n",
        "#model_bayes_cv = load('bayes_cv.joblib')"
      ],
      "execution_count": null,
      "outputs": []
    },
    {
      "cell_type": "markdown",
      "metadata": {
        "id": "kcdbpsDygULT"
      },
      "source": [
        "# Text Generation"
      ]
    },
    {
      "cell_type": "code",
      "metadata": {
        "id": "oqKM3R5kgylC"
      },
      "source": [
        "!pip install markovify\r\n",
        "import markovify"
      ],
      "execution_count": null,
      "outputs": []
    },
    {
      "cell_type": "code",
      "metadata": {
        "id": "Ho5gER39os8X"
      },
      "source": [
        "training_text = fakenews_df_2.copy()"
      ],
      "execution_count": null,
      "outputs": []
    },
    {
      "cell_type": "code",
      "metadata": {
        "id": "6OTQM-WjE_BA"
      },
      "source": [
        "fakenews_df_2"
      ],
      "execution_count": null,
      "outputs": []
    },
    {
      "cell_type": "code",
      "metadata": {
        "id": "oJbpW9WKFBCn"
      },
      "source": [
        "training_text = training_text[training_text.fake == 1]\r\n",
        "training_text = training_text['both']"
      ],
      "execution_count": null,
      "outputs": []
    },
    {
      "cell_type": "code",
      "metadata": {
        "id": "qFydSnQIo3-T"
      },
      "source": [
        "model_markov_baseline = markovify.Text(training_text, state_size=1)"
      ],
      "execution_count": null,
      "outputs": []
    },
    {
      "cell_type": "code",
      "metadata": {
        "id": "014Lxrbko7Gn"
      },
      "source": [
        "sentence_markov_baseline = []\r\n",
        "for _ in range(1000):\r\n",
        "    sentence = model_markov_baseline.make_short_sentence(max_chars = 140)\r\n",
        "    if sentence is not None:\r\n",
        "      sentence_markov_baseline.append(sentence)"
      ],
      "execution_count": null,
      "outputs": []
    },
    {
      "cell_type": "code",
      "metadata": {
        "id": "Uda2tK9_j3UI"
      },
      "source": [
        "sentence_markov_baseline"
      ],
      "execution_count": null,
      "outputs": []
    },
    {
      "cell_type": "code",
      "metadata": {
        "id": "1VFiGa_6HNbA"
      },
      "source": [
        "df = pd.DataFrame(sentence_markov_baseline, columns= ['new_text'])"
      ],
      "execution_count": null,
      "outputs": []
    },
    {
      "cell_type": "code",
      "metadata": {
        "id": "KcWKkwKQHTk-"
      },
      "source": [
        "df = df.drop_duplicates()"
      ],
      "execution_count": null,
      "outputs": []
    },
    {
      "cell_type": "code",
      "metadata": {
        "id": "UmnrZqUVwJj_"
      },
      "source": [
        "df.shape"
      ],
      "execution_count": null,
      "outputs": []
    },
    {
      "cell_type": "code",
      "metadata": {
        "id": "ej2q9EYU4zXY"
      },
      "source": [
        "df['fake'] = 1"
      ],
      "execution_count": null,
      "outputs": []
    },
    {
      "cell_type": "code",
      "metadata": {
        "id": "_ctqcuOf480Y"
      },
      "source": [
        "y_true = df['fake']\r\n",
        "X = df['new_text']"
      ],
      "execution_count": null,
      "outputs": []
    },
    {
      "cell_type": "code",
      "metadata": {
        "id": "oaIJbWQxaObw"
      },
      "source": [
        "y_pred = model_bayes_cv.predict(X)"
      ],
      "execution_count": null,
      "outputs": []
    },
    {
      "cell_type": "code",
      "metadata": {
        "id": "IGvMvgkhw2n3"
      },
      "source": [
        "accuracy_score(y_pred, y_true)"
      ],
      "execution_count": null,
      "outputs": []
    },
    {
      "cell_type": "code",
      "metadata": {
        "id": "RGxPfba45gOw"
      },
      "source": [
        "from sklearn.metrics import classification_report\r\n",
        "print(classification_report(y_true, model_bayes_cv.predict(X), digits=4))\r\n",
        "\r\n",
        "\r\n",
        "import matplotlib.pyplot as plt\r\n",
        "from sklearn.metrics import confusion_matrix\r\n",
        "CM = confusion_matrix(y_true, model_bayes_cv.predict(X))\r\n",
        "from mlxtend.plotting import plot_confusion_matrix\r\n",
        "fig, ax = plot_confusion_matrix(conf_mat=CM ,  figsize=(5, 5))\r\n",
        "plt.show()"
      ],
      "execution_count": null,
      "outputs": []
    },
    {
      "cell_type": "code",
      "metadata": {
        "id": "dSBXHdbeuiBf"
      },
      "source": [
        "def tweets_report(tweet_list):\r\n",
        "    proba_list = model_bayes_cv.predict_proba(tweet_list)\r\n",
        "\r\n",
        "    dummy_list = list(map(lambda x : (x>0.5).astype(int), proba_list))\r\n",
        "\r\n",
        "    print('Proportion of headlines that fooled the classifier: ', np.mean(dummy_list))\r\n"
      ],
      "execution_count": null,
      "outputs": []
    },
    {
      "cell_type": "code",
      "metadata": {
        "id": "xA3I0sJcuuvP"
      },
      "source": [
        "df['preds'] = y_pred "
      ],
      "execution_count": null,
      "outputs": []
    },
    {
      "cell_type": "code",
      "metadata": {
        "id": "mfm0iBjK7GH3"
      },
      "source": [
        "pd.set_option('display.max_colwidth', -1)\r\n",
        "\r\n",
        "df[df['preds'] == 0]"
      ],
      "execution_count": null,
      "outputs": []
    },
    {
      "cell_type": "code",
      "metadata": {
        "id": "uZhKu0z-8gkw"
      },
      "source": [
        "df.iloc[237]"
      ],
      "execution_count": null,
      "outputs": []
    }
  ]
}